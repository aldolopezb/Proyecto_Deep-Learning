{
 "cells": [
  {
   "cell_type": "code",
   "execution_count": 2,
   "id": "f4961b1f-dd16-4091-92f5-cd527d4aa287",
   "metadata": {},
   "outputs": [
    {
     "name": "stdout",
     "output_type": "stream",
     "text": [
      "Epoch 1/10\n",
      "\u001b[1m546/546\u001b[0m \u001b[32m━━━━━━━━━━━━━━━━━━━━\u001b[0m\u001b[37m\u001b[0m \u001b[1m11s\u001b[0m 19ms/step - accuracy: 0.5650 - loss: 0.6726 - val_accuracy: 0.6833 - val_loss: 0.5894\n",
      "Epoch 2/10\n",
      "\u001b[1m546/546\u001b[0m \u001b[32m━━━━━━━━━━━━━━━━━━━━\u001b[0m\u001b[37m\u001b[0m \u001b[1m11s\u001b[0m 20ms/step - accuracy: 0.6932 - loss: 0.5813 - val_accuracy: 0.7257 - val_loss: 0.5423\n",
      "Epoch 3/10\n",
      "\u001b[1m546/546\u001b[0m \u001b[32m━━━━━━━━━━━━━━━━━━━━\u001b[0m\u001b[37m\u001b[0m \u001b[1m10s\u001b[0m 18ms/step - accuracy: 0.7393 - loss: 0.5261 - val_accuracy: 0.7461 - val_loss: 0.5129\n",
      "Epoch 4/10\n",
      "\u001b[1m546/546\u001b[0m \u001b[32m━━━━━━━━━━━━━━━━━━━━\u001b[0m\u001b[37m\u001b[0m \u001b[1m11s\u001b[0m 19ms/step - accuracy: 0.7573 - loss: 0.4977 - val_accuracy: 0.7563 - val_loss: 0.4978\n",
      "Epoch 5/10\n",
      "\u001b[1m546/546\u001b[0m \u001b[32m━━━━━━━━━━━━━━━━━━━━\u001b[0m\u001b[37m\u001b[0m \u001b[1m10s\u001b[0m 19ms/step - accuracy: 0.7761 - loss: 0.4743 - val_accuracy: 0.7418 - val_loss: 0.5288\n",
      "Epoch 6/10\n",
      "\u001b[1m546/546\u001b[0m \u001b[32m━━━━━━━━━━━━━━━━━━━━\u001b[0m\u001b[37m\u001b[0m \u001b[1m10s\u001b[0m 19ms/step - accuracy: 0.7883 - loss: 0.4570 - val_accuracy: 0.7715 - val_loss: 0.4863\n",
      "Epoch 7/10\n",
      "\u001b[1m546/546\u001b[0m \u001b[32m━━━━━━━━━━━━━━━━━━━━\u001b[0m\u001b[37m\u001b[0m \u001b[1m10s\u001b[0m 19ms/step - accuracy: 0.7922 - loss: 0.4410 - val_accuracy: 0.7798 - val_loss: 0.4696\n",
      "Epoch 8/10\n",
      "\u001b[1m546/546\u001b[0m \u001b[32m━━━━━━━━━━━━━━━━━━━━\u001b[0m\u001b[37m\u001b[0m \u001b[1m10s\u001b[0m 18ms/step - accuracy: 0.8122 - loss: 0.4193 - val_accuracy: 0.7805 - val_loss: 0.4666\n",
      "Epoch 9/10\n",
      "\u001b[1m546/546\u001b[0m \u001b[32m━━━━━━━━━━━━━━━━━━━━\u001b[0m\u001b[37m\u001b[0m \u001b[1m10s\u001b[0m 18ms/step - accuracy: 0.8145 - loss: 0.4101 - val_accuracy: 0.7684 - val_loss: 0.4863\n",
      "Epoch 10/10\n",
      "\u001b[1m546/546\u001b[0m \u001b[32m━━━━━━━━━━━━━━━━━━━━\u001b[0m\u001b[37m\u001b[0m \u001b[1m10s\u001b[0m 18ms/step - accuracy: 0.8158 - loss: 0.4082 - val_accuracy: 0.7823 - val_loss: 0.4710\n"
     ]
    },
    {
     "data": {
      "text/plain": [
       "<keras.src.callbacks.history.History at 0x28587dc4210>"
      ]
     },
     "execution_count": 2,
     "metadata": {},
     "output_type": "execute_result"
    }
   ],
   "source": [
    "import tensorflow as tf                                                 # Importa TensorFlow y sus submódulos necesarios\n",
    "from tensorflow.keras.datasets import cifar10                           # Importa el conjunto de datos CIFAR-10\n",
    "from tensorflow.keras.preprocessing.image import ImageDataGenerator     # Importa generador de imágenes de Keras\n",
    "from tensorflow.keras.models import Sequential                          # Importa el modelo secuencial\n",
    "from tensorflow.keras.layers import Dense, Dropout, Activation, Flatten # Importa capas Dense, Dropout, Activation y Flatten\n",
    "from tensorflow.keras.layers import Conv2D, MaxPooling2D                # Importa capas Conv2D y MaxPooling2D\n",
    "from tensorflow.keras.callbacks import TensorBoard                      # Importa el callback TensorBoard para la visualización del entrenamiento\n",
    "\n",
    "import pickle           # Importa la biblioteca pickle para la serialización de datos\n",
    "import numpy as np      # Importa NumPy para operaciones numéricas\n",
    "import time             # Importa la biblioteca time para trabajar con funciones relacionadas con el tiempo\n",
    "\n",
    "# Define un nombre para el experimento de TensorBoard\n",
    "NAME = \"Cats-vs-dogs-64x2-CNN\"\n",
    "# Inicializa el callback de TensorBoard con el directorio de logs especificado\n",
    "tensorboard = TensorBoard(log_dir=\"logs/{}\".format(NAME))\n",
    "\n",
    "# Carga los datos desde los archivos pickle\n",
    "# Abre el archivo \"X.pickle\" en modo lectura binaria\n",
    "pickle_in = open(\"X.pickle\", \"rb\")\n",
    "# Carga los datos de las imágenes desde el archivo y conviértelos a un array de numpy\n",
    "X = np.array(pickle.load(pickle_in))\n",
    "\n",
    "# Abre el archivo \"y.pickle\" en modo lectura binaria\n",
    "pickle_in = open(\"y.pickle\", \"rb\")\n",
    "# Carga las etiquetas de las imágenes desde el archivo y conviértelos a un array de numpy\n",
    "y = np.array(pickle.load(pickle_in))\n",
    "\n",
    "# Normaliza los datos\n",
    "# Divide cada valor de píxel por 255.0 para normalizar los datos de las imágenes a un rango [0, 1]\n",
    "X = X / 255.0\n",
    "\n",
    "# Construye el modelo\n",
    "model = Sequential()  # Inicializa un modelo secuencial\n",
    "\n",
    "# Añade una capa convolucional con 64 filtros y un tamaño de kernel de 3x3\n",
    "# Especifica la forma de entrada que corresponde a la de los datos de las imágenes\n",
    "model.add(Conv2D(64, (3, 3), input_shape=X.shape[1:]))\n",
    "model.add(Activation('relu'))  # Añade una función de activación ReLU\n",
    "model.add(MaxPooling2D(pool_size=(2, 2)))  # Añade una capa de max-pooling con un tamaño de pool de 2x2\n",
    "\n",
    "# Añade una segunda capa convolucional con 64 filtros y un tamaño de kernel de 3x3\n",
    "model.add(Conv2D(64, (3, 3)))\n",
    "model.add(Activation('relu'))  # Añade una función de activación ReLU\n",
    "model.add(MaxPooling2D(pool_size=(2, 2)))  # Añade una capa de max-pooling con un tamaño de pool de 2x2\n",
    "\n",
    "# Aplana las características 3D a un vector 1D\n",
    "model.add(Flatten())\n",
    "\n",
    "# Añade una capa densa con una unidad (salida)\n",
    "model.add(Dense(1))\n",
    "model.add(Activation('sigmoid'))  # Añade una función de activación sigmoide para la salida\n",
    "\n",
    "# Compila el modelo\n",
    "# Utiliza la pérdida de entropía cruzada binaria y el optimizador Adam\n",
    "# Mide la precisión durante el entrenamiento\n",
    "model.compile(loss='binary_crossentropy', optimizer='adam', metrics=['accuracy'])\n",
    "\n",
    "# Entrena el modelo\n",
    "# Utiliza un tamaño de lote de 32 y entrena por 7 épocas\n",
    "# Usa el 30% de los datos para la validación durante el entrenamiento\n",
    "model.fit(X, y, batch_size=32, epochs=10, validation_split=0.3, callbacks=[tensorboard])\n",
    "\n",
    "#Ejecutamos el siguiente comando tensorboard --logdir=logs/\n",
    "#en la ruta donde se tiene guardado el codigo\n",
    "#Despues de abrir nuestro localhost, se va a scalars y escribimos *"
   ]
  },
  {
   "cell_type": "code",
   "execution_count": null,
   "id": "dcbe6dd9-39a6-4eb2-9882-20cd28002361",
   "metadata": {},
   "outputs": [],
   "source": []
  }
 ],
 "metadata": {
  "kernelspec": {
   "display_name": "Python 3 (ipykernel)",
   "language": "python",
   "name": "python3"
  },
  "language_info": {
   "codemirror_mode": {
    "name": "ipython",
    "version": 3
   },
   "file_extension": ".py",
   "mimetype": "text/x-python",
   "name": "python",
   "nbconvert_exporter": "python",
   "pygments_lexer": "ipython3",
   "version": "3.11.5"
  }
 },
 "nbformat": 4,
 "nbformat_minor": 5
}
