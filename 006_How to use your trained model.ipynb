{
 "cells": [
  {
   "cell_type": "code",
   "execution_count": 1,
   "id": "1286b4a5-65b7-4b76-ba14-0bcdd76663cf",
   "metadata": {},
   "outputs": [
    {
     "name": "stdout",
     "output_type": "stream",
     "text": [
      "3-conv-32-nodes-1-dense-1718583705\n"
     ]
    },
    {
     "name": "stderr",
     "output_type": "stream",
     "text": [
      "c:\\Users\\Aldo\\AppData\\Local\\Programs\\Python\\Python311\\Lib\\site-packages\\keras\\src\\layers\\convolutional\\base_conv.py:107: UserWarning: Do not pass an `input_shape`/`input_dim` argument to a layer. When using Sequential models, prefer using an `Input(shape)` object as the first layer in the model instead.\n",
      "  super().__init__(activity_regularizer=activity_regularizer, **kwargs)\n"
     ]
    },
    {
     "name": "stdout",
     "output_type": "stream",
     "text": [
      "Epoch 1/7\n",
      "\u001b[1m546/546\u001b[0m \u001b[32m━━━━━━━━━━━━━━━━━━━━\u001b[0m\u001b[37m\u001b[0m \u001b[1m6s\u001b[0m 10ms/step - accuracy: 0.5630 - loss: 0.6737 - val_accuracy: 0.6867 - val_loss: 0.5932\n",
      "Epoch 2/7\n",
      "\u001b[1m546/546\u001b[0m \u001b[32m━━━━━━━━━━━━━━━━━━━━\u001b[0m\u001b[37m\u001b[0m \u001b[1m5s\u001b[0m 10ms/step - accuracy: 0.7039 - loss: 0.5736 - val_accuracy: 0.7365 - val_loss: 0.5243\n",
      "Epoch 3/7\n",
      "\u001b[1m546/546\u001b[0m \u001b[32m━━━━━━━━━━━━━━━━━━━━\u001b[0m\u001b[37m\u001b[0m \u001b[1m5s\u001b[0m 9ms/step - accuracy: 0.7506 - loss: 0.5073 - val_accuracy: 0.7569 - val_loss: 0.4893\n",
      "Epoch 4/7\n",
      "\u001b[1m546/546\u001b[0m \u001b[32m━━━━━━━━━━━━━━━━━━━━\u001b[0m\u001b[37m\u001b[0m \u001b[1m5s\u001b[0m 8ms/step - accuracy: 0.7776 - loss: 0.4679 - val_accuracy: 0.7798 - val_loss: 0.4660\n",
      "Epoch 5/7\n",
      "\u001b[1m546/546\u001b[0m \u001b[32m━━━━━━━━━━━━━━━━━━━━\u001b[0m\u001b[37m\u001b[0m \u001b[1m5s\u001b[0m 8ms/step - accuracy: 0.7987 - loss: 0.4365 - val_accuracy: 0.7906 - val_loss: 0.4428\n",
      "Epoch 6/7\n",
      "\u001b[1m546/546\u001b[0m \u001b[32m━━━━━━━━━━━━━━━━━━━━\u001b[0m\u001b[37m\u001b[0m \u001b[1m5s\u001b[0m 8ms/step - accuracy: 0.8186 - loss: 0.4001 - val_accuracy: 0.7996 - val_loss: 0.4422\n",
      "Epoch 7/7\n",
      "\u001b[1m546/546\u001b[0m \u001b[32m━━━━━━━━━━━━━━━━━━━━\u001b[0m\u001b[37m\u001b[0m \u001b[1m4s\u001b[0m 8ms/step - accuracy: 0.8422 - loss: 0.3587 - val_accuracy: 0.7580 - val_loss: 0.5221\n"
     ]
    }
   ],
   "source": [
    "import tensorflow as tf\n",
    "from tensorflow.keras.datasets import cifar10\n",
    "from tensorflow.keras.preprocessing.image import ImageDataGenerator\n",
    "from tensorflow.keras.models import Sequential\n",
    "from tensorflow.keras.layers import Dense, Dropout, Activation, Flatten\n",
    "from tensorflow.keras.layers import Conv2D, MaxPooling2D\n",
    "from tensorflow.keras.callbacks import TensorBoard\n",
    "\n",
    "import pickle\n",
    "import numpy as np\n",
    "import time\n",
    "\n",
    "# Carga los datos desde los archivos pickle\n",
    "pickle_in = open(\"X.pickle\", \"rb\")\n",
    "X = np.array(pickle.load(pickle_in))\n",
    "\n",
    "pickle_in = open(\"y.pickle\", \"rb\")\n",
    "y = np.array(pickle.load(pickle_in))\n",
    "\n",
    "# Normaliza los datos\n",
    "X = X / 255.0\n",
    "\n",
    "dense_layers = [1]\n",
    "layer_sizes = [32]\n",
    "conv_layers = [3]\n",
    "\n",
    "for dense_layer in dense_layers:\n",
    "    for layer_size in layer_sizes:\n",
    "        for conv_layer in conv_layers:\n",
    "            NAME = \"{}-conv-{}-nodes-{}-dense-{}\".format(conv_layer, layer_size, dense_layer, int(time.time()))\n",
    "            tensorboard = TensorBoard(log_dir=\"logs/{}\".format(NAME))\n",
    "            print(NAME)\n",
    "\n",
    "            model = Sequential()\n",
    "\n",
    "            model.add(Conv2D(layer_size, (3, 3), input_shape=X.shape[1:]))\n",
    "            model.add(Activation('relu'))\n",
    "            model.add(MaxPooling2D(pool_size=(2, 2)))\n",
    "\n",
    "            for l in range(conv_layer - 1):\n",
    "                model.add(Conv2D(layer_size, (3, 3)))\n",
    "                model.add(Activation('relu'))\n",
    "                model.add(MaxPooling2D(pool_size=(2, 2)))\n",
    "\n",
    "            model.add(Flatten())\n",
    "            for _ in range(dense_layer):\n",
    "                model.add(Dense(512))\n",
    "                model.add(Activation('relu'))\n",
    "\n",
    "            model.add(Dense(1))\n",
    "            model.add(Activation('sigmoid'))\n",
    "\n",
    "            model.compile(loss='binary_crossentropy', optimizer='adam', metrics=['accuracy'])\n",
    "            \n",
    "            model.fit(X, y, batch_size=32, epochs=7, validation_split=0.3, callbacks=[tensorboard])\n",
    "            \n",
    "model.save('64x3-CNN.keras')  # Cambiado a .keras\n"
   ]
  },
  {
   "cell_type": "code",
   "execution_count": 2,
   "id": "ceeff411-a70f-4776-94cf-9cf6660aea4e",
   "metadata": {
    "scrolled": true
   },
   "outputs": [
    {
     "name": "stdout",
     "output_type": "stream",
     "text": [
      "\u001b[1m1/1\u001b[0m \u001b[32m━━━━━━━━━━━━━━━━━━━━\u001b[0m\u001b[37m\u001b[0m \u001b[1m0s\u001b[0m 57ms/step\n",
      "[[0.99623036]]\n",
      "Cat\n"
     ]
    }
   ],
   "source": [
    "import cv2\n",
    "import tensorflow as tf\n",
    "import numpy as np\n",
    "\n",
    "CATEGORIES = [\"Dog\", \"Cat\"]  # Lista de categorías, se usará para convertir el número de predicción en una etiqueta de cadena\n",
    "\n",
    "def preparar_imagen(filepath):\n",
    "    IMG_SIZE = 50  # Tamaño al que se redimensionará la imagen (50x50 en este caso)\n",
    "    img_array = cv2.imread(filepath, cv2.IMREAD_GRAYSCALE)  # Cargar la imagen en escala de grises\n",
    "    \n",
    "    # Verificar si la imagen se cargó correctamente\n",
    "    if img_array is None:\n",
    "        raise ValueError(\"Error: No se pudo cargar la imagen. Verifica la ruta de la imagen.\")\n",
    "    \n",
    "    # Redimensionar la imagen manteniendo la relación de aspecto original\n",
    "    aspect_ratio = img_array.shape[1] / img_array.shape[0]\n",
    "    if aspect_ratio > 1:  # Si la imagen es más ancha que alta\n",
    "        new_width = IMG_SIZE\n",
    "        new_height = int(IMG_SIZE / aspect_ratio)\n",
    "    else:  # Si la imagen es más alta que ancha o cuadrada\n",
    "        new_height = IMG_SIZE\n",
    "        new_width = int(IMG_SIZE * aspect_ratio)\n",
    "    resized_img = cv2.resize(img_array, (new_width, new_height))\n",
    "    \n",
    "    # Rellenar o recortar la imagen para que sea de tamaño 50x50\n",
    "    padded_img = np.zeros((IMG_SIZE, IMG_SIZE), dtype=np.uint8)\n",
    "    if aspect_ratio > 1:  # Si la imagen es más ancha que alta\n",
    "        start_y = (IMG_SIZE - new_height) // 2\n",
    "        padded_img[start_y:start_y + new_height, :] = resized_img\n",
    "    else:  # Si la imagen es más alta que ancha o cuadrada\n",
    "        start_x = (IMG_SIZE - new_width) // 2\n",
    "        padded_img[:, start_x:start_x + new_width] = resized_img\n",
    "    \n",
    "    # Normalizar la imagen\n",
    "    padded_img = padded_img / 255.0  # Escalar los valores de píxeles al rango [0, 1]\n",
    "    padded_img = padded_img.astype('float32')  # Asegurar que los valores sean de tipo float32\n",
    "    \n",
    "    return padded_img.reshape(1, IMG_SIZE, IMG_SIZE, 1)  # Devolver la imagen con la forma (1, 50, 50, 1)\n",
    "\n",
    "# Cargar el modelo pre-entrenado\n",
    "ruta = (r\"D:\\Mis Documentos\\Documentos\\Aldo\\Universidad\\CETI\\6to_Semestre\\Inteligencia Artificial\\3er Parcial\\Proyecto\\AI_Project_Deep-Learning-Tensorflow-Keras-main\\64x3-CNN.keras\")\n",
    "modelo = tf.keras.models.load_model(ruta)\n",
    "\n",
    "# Realizar una predicción en una imagen\n",
    "ruta2 = (r\"D:\\Mis Documentos\\Documentos\\Aldo\\Universidad\\CETI\\6to_Semestre\\Inteligencia Artificial\\3er Parcial\\Proyecto\\AI_Project_Deep-Learning-Tensorflow-Keras-main\\IMG\\cat.jpg\")\n",
    "prediction = modelo.predict(preparar_imagen(ruta2))\n",
    "\n",
    "# Imprimir la predicción\n",
    "print(prediction)  # Esto será una lista dentro de otra lista\n",
    "category_index = int(prediction[0][0] >= 0.5)  # Usar el umbral 0.5 para determinar la categoría\n",
    "print(CATEGORIES[category_index])  # Convertir la predicción en una etiqueta y mostrarla\n"
   ]
  }
 ],
 "metadata": {
  "kernelspec": {
   "display_name": "Python 3 (ipykernel)",
   "language": "python",
   "name": "python3"
  },
  "language_info": {
   "codemirror_mode": {
    "name": "ipython",
    "version": 3
   },
   "file_extension": ".py",
   "mimetype": "text/x-python",
   "name": "python",
   "nbconvert_exporter": "python",
   "pygments_lexer": "ipython3",
   "version": "3.11.5"
  }
 },
 "nbformat": 4,
 "nbformat_minor": 5
}
